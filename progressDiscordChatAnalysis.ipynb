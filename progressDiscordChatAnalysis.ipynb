{
 "cells": [
  {
   "cell_type": "markdown",
   "metadata": {},
   "source": [
    "# Discord Chat Text Analysis\n",
    "\n",
    "Analysing the Discord Chat, \"66DaysOfData\". Channels:#progress and #general\n",
    "\n",
    "## Importing libraries\n"
   ]
  },
  {
   "cell_type": "code",
   "execution_count": 1,
   "metadata": {},
   "outputs": [],
   "source": [
    "import pandas as pd\n",
    "import matplotlib.pyplot as plt\n",
    "import seaborn as sns\n",
    "import numpy as np\n",
    "import spacy\n",
    "\n",
    "from spacy.matcher import PhraseMatcher\n",
    "from spacy import displacy\n",
    "\n",
    "spacy.prefer_gpu()\n",
    "nlp = spacy.load(\"en_core_web_sm\", disable=['ner'])\n",
    "\n",
    "import json\n",
    "import os\n",
    "\n",
    "%matplotlib inline"
   ]
  },
  {
   "cell_type": "code",
   "execution_count": 2,
   "metadata": {},
   "outputs": [
    {
     "data": {
      "text/plain": [
       "['.git',\n",
       " '.gitignore',\n",
       " '.ipynb_checkpoints',\n",
       " '66DaysofData - important - general [749395801482199107].json',\n",
       " '66DaysofData - important - introductions [749414833275011074].json',\n",
       " '66DaysofData - important - progress [749516705734197258].json',\n",
       " 'discord.env',\n",
       " 'discordBotcode.py',\n",
       " 'progressDiscordChatAnalysis.ipynb',\n",
       " 'README.md',\n",
       " 'test.py']"
      ]
     },
     "execution_count": 2,
     "metadata": {},
     "output_type": "execute_result"
    }
   ],
   "source": [
    "os.listdir()"
   ]
  },
  {
   "cell_type": "markdown",
   "metadata": {},
   "source": [
    "## Loading Data\n",
    "\n",
    "Loading data into dataframes using `.json_normalize()`. I find the `.json` files have more infomation that the `.csv` files."
   ]
  },
  {
   "cell_type": "code",
   "execution_count": 3,
   "metadata": {},
   "outputs": [],
   "source": [
    "filename_gen = '66DaysofData - important - general [749395801482199107].json'   # 21-09-2020 NZT #general channel chat\n",
    "filename_prog = '66DaysofData - important - progress [749516705734197258].json' # 21-09-2020 NZT #progress channel chat\n",
    "filename_intro = '66DaysofData - important - introductions [749414833275011074].json' # 21-09-2020 NZT #introductions channel chat\n",
    "\n",
    "def load_json_to_df(filename):\n",
    "    with open(filename, 'r') as f:\n",
    "        data = json.load(f)\n",
    "    return pd.json_normalize(data, record_path='messages')\n",
    "\n",
    "df_gen = load_json_to_df(filename_gen)\n",
    "df_prog = load_json_to_df(filename_prog)\n",
    "df_intro = load_json_to_df(filename_intro)"
   ]
  },
  {
   "cell_type": "markdown",
   "metadata": {},
   "source": [
    "## Exploratory Data Analysis - #progress channel"
   ]
  },
  {
   "cell_type": "code",
   "execution_count": 4,
   "metadata": {},
   "outputs": [
    {
     "data": {
      "text/plain": [
       "(1741, 15)"
      ]
     },
     "execution_count": 4,
     "metadata": {},
     "output_type": "execute_result"
    }
   ],
   "source": [
    "df_prog.shape"
   ]
  },
  {
   "cell_type": "code",
   "execution_count": 5,
   "metadata": {},
   "outputs": [
    {
     "data": {
      "text/html": [
       "<div>\n",
       "<style scoped>\n",
       "    .dataframe tbody tr th:only-of-type {\n",
       "        vertical-align: middle;\n",
       "    }\n",
       "\n",
       "    .dataframe tbody tr th {\n",
       "        vertical-align: top;\n",
       "    }\n",
       "\n",
       "    .dataframe thead th {\n",
       "        text-align: right;\n",
       "    }\n",
       "</style>\n",
       "<table border=\"1\" class=\"dataframe\">\n",
       "  <thead>\n",
       "    <tr style=\"text-align: right;\">\n",
       "      <th></th>\n",
       "      <th>id</th>\n",
       "      <th>type</th>\n",
       "      <th>timestamp</th>\n",
       "      <th>timestampEdited</th>\n",
       "      <th>callEndedTimestamp</th>\n",
       "      <th>isPinned</th>\n",
       "      <th>content</th>\n",
       "      <th>attachments</th>\n",
       "      <th>embeds</th>\n",
       "      <th>reactions</th>\n",
       "      <th>author.id</th>\n",
       "      <th>author.name</th>\n",
       "      <th>author.discriminator</th>\n",
       "      <th>author.isBot</th>\n",
       "      <th>author.avatarUrl</th>\n",
       "    </tr>\n",
       "  </thead>\n",
       "  <tbody>\n",
       "    <tr>\n",
       "      <th>0</th>\n",
       "      <td>749937010868748351</td>\n",
       "      <td>Default</td>\n",
       "      <td>2020-08-31T10:21:56.547+00:00</td>\n",
       "      <td>None</td>\n",
       "      <td>None</td>\n",
       "      <td>False</td>\n",
       "      <td>Day1: Created a GitHub repo. Created an R and ...</td>\n",
       "      <td>[]</td>\n",
       "      <td>[]</td>\n",
       "      <td>[{'emoji': {'id': None, 'name': '💯', 'isAnimat...</td>\n",
       "      <td>715593892438736898</td>\n",
       "      <td>William Guesdon</td>\n",
       "      <td>3961</td>\n",
       "      <td>False</td>\n",
       "      <td>https://cdn.discordapp.com/embed/avatars/1.png</td>\n",
       "    </tr>\n",
       "    <tr>\n",
       "      <th>1</th>\n",
       "      <td>750045262277378089</td>\n",
       "      <td>Default</td>\n",
       "      <td>2020-08-31T17:32:05.694+00:00</td>\n",
       "      <td>None</td>\n",
       "      <td>None</td>\n",
       "      <td>False</td>\n",
       "      <td>&gt; Day1: Created a GitHub repo. Created an R an...</td>\n",
       "      <td>[]</td>\n",
       "      <td>[]</td>\n",
       "      <td>[{'emoji': {'id': None, 'name': '👍', 'isAnimat...</td>\n",
       "      <td>743513993250996376</td>\n",
       "      <td>Andrew from DataLeap</td>\n",
       "      <td>8501</td>\n",
       "      <td>False</td>\n",
       "      <td>https://cdn.discordapp.com/avatars/74351399325...</td>\n",
       "    </tr>\n",
       "    <tr>\n",
       "      <th>2</th>\n",
       "      <td>750067004639281224</td>\n",
       "      <td>Default</td>\n",
       "      <td>2020-08-31T18:58:29.477+00:00</td>\n",
       "      <td>None</td>\n",
       "      <td>None</td>\n",
       "      <td>False</td>\n",
       "      <td>Thank you @Andrew from DataLeap It can definit...</td>\n",
       "      <td>[]</td>\n",
       "      <td>[]</td>\n",
       "      <td>[]</td>\n",
       "      <td>715593892438736898</td>\n",
       "      <td>William Guesdon</td>\n",
       "      <td>3961</td>\n",
       "      <td>False</td>\n",
       "      <td>https://cdn.discordapp.com/embed/avatars/1.png</td>\n",
       "    </tr>\n",
       "    <tr>\n",
       "      <th>3</th>\n",
       "      <td>750068015126544485</td>\n",
       "      <td>Default</td>\n",
       "      <td>2020-08-31T19:02:30.396+00:00</td>\n",
       "      <td>None</td>\n",
       "      <td>None</td>\n",
       "      <td>False</td>\n",
       "      <td>Guys i am a beginner , would appreciate if you...</td>\n",
       "      <td>[]</td>\n",
       "      <td>[]</td>\n",
       "      <td>[]</td>\n",
       "      <td>750065427107020843</td>\n",
       "      <td>vc</td>\n",
       "      <td>3696</td>\n",
       "      <td>False</td>\n",
       "      <td>https://cdn.discordapp.com/embed/avatars/1.png</td>\n",
       "    </tr>\n",
       "    <tr>\n",
       "      <th>4</th>\n",
       "      <td>750070203576221857</td>\n",
       "      <td>Default</td>\n",
       "      <td>2020-08-31T19:11:12.163+00:00</td>\n",
       "      <td>None</td>\n",
       "      <td>None</td>\n",
       "      <td>False</td>\n",
       "      <td>Hi Guys, Started with basic Stat</td>\n",
       "      <td>[]</td>\n",
       "      <td>[]</td>\n",
       "      <td>[]</td>\n",
       "      <td>750069445883461713</td>\n",
       "      <td>Arth</td>\n",
       "      <td>1001</td>\n",
       "      <td>False</td>\n",
       "      <td>https://cdn.discordapp.com/embed/avatars/1.png</td>\n",
       "    </tr>\n",
       "  </tbody>\n",
       "</table>\n",
       "</div>"
      ],
      "text/plain": [
       "                   id     type                      timestamp timestampEdited  \\\n",
       "0  749937010868748351  Default  2020-08-31T10:21:56.547+00:00            None   \n",
       "1  750045262277378089  Default  2020-08-31T17:32:05.694+00:00            None   \n",
       "2  750067004639281224  Default  2020-08-31T18:58:29.477+00:00            None   \n",
       "3  750068015126544485  Default  2020-08-31T19:02:30.396+00:00            None   \n",
       "4  750070203576221857  Default  2020-08-31T19:11:12.163+00:00            None   \n",
       "\n",
       "  callEndedTimestamp  isPinned  \\\n",
       "0               None     False   \n",
       "1               None     False   \n",
       "2               None     False   \n",
       "3               None     False   \n",
       "4               None     False   \n",
       "\n",
       "                                             content attachments embeds  \\\n",
       "0  Day1: Created a GitHub repo. Created an R and ...          []     []   \n",
       "1  > Day1: Created a GitHub repo. Created an R an...          []     []   \n",
       "2  Thank you @Andrew from DataLeap It can definit...          []     []   \n",
       "3  Guys i am a beginner , would appreciate if you...          []     []   \n",
       "4                   Hi Guys, Started with basic Stat          []     []   \n",
       "\n",
       "                                           reactions           author.id  \\\n",
       "0  [{'emoji': {'id': None, 'name': '💯', 'isAnimat...  715593892438736898   \n",
       "1  [{'emoji': {'id': None, 'name': '👍', 'isAnimat...  743513993250996376   \n",
       "2                                                 []  715593892438736898   \n",
       "3                                                 []  750065427107020843   \n",
       "4                                                 []  750069445883461713   \n",
       "\n",
       "            author.name author.discriminator  author.isBot  \\\n",
       "0       William Guesdon                 3961         False   \n",
       "1  Andrew from DataLeap                 8501         False   \n",
       "2       William Guesdon                 3961         False   \n",
       "3                    vc                 3696         False   \n",
       "4                  Arth                 1001         False   \n",
       "\n",
       "                                    author.avatarUrl  \n",
       "0     https://cdn.discordapp.com/embed/avatars/1.png  \n",
       "1  https://cdn.discordapp.com/avatars/74351399325...  \n",
       "2     https://cdn.discordapp.com/embed/avatars/1.png  \n",
       "3     https://cdn.discordapp.com/embed/avatars/1.png  \n",
       "4     https://cdn.discordapp.com/embed/avatars/1.png  "
      ]
     },
     "execution_count": 5,
     "metadata": {},
     "output_type": "execute_result"
    }
   ],
   "source": [
    "df_prog.head()"
   ]
  },
  {
   "cell_type": "code",
   "execution_count": 6,
   "metadata": {},
   "outputs": [
    {
     "data": {
      "text/plain": [
       "id                      object\n",
       "type                    object\n",
       "timestamp               object\n",
       "timestampEdited         object\n",
       "callEndedTimestamp      object\n",
       "isPinned                  bool\n",
       "content                 object\n",
       "attachments             object\n",
       "embeds                  object\n",
       "reactions               object\n",
       "author.id               object\n",
       "author.name             object\n",
       "author.discriminator    object\n",
       "author.isBot              bool\n",
       "author.avatarUrl        object\n",
       "dtype: object"
      ]
     },
     "execution_count": 6,
     "metadata": {},
     "output_type": "execute_result"
    }
   ],
   "source": [
    "df_prog.dtypes"
   ]
  },
  {
   "cell_type": "code",
   "execution_count": 7,
   "metadata": {},
   "outputs": [
    {
     "data": {
      "text/plain": [
       "dsgeek101           47\n",
       "Ashley.bee          32\n",
       "Aaron Petry         25\n",
       "Niven               25\n",
       "Wilson              25\n",
       "15Daniel            25\n",
       "RLChibi             24\n",
       "nedal               23\n",
       "_dominiquejames_    22\n",
       "Lejoro              21\n",
       "Name: author.name, dtype: int64"
      ]
     },
     "execution_count": 7,
     "metadata": {},
     "output_type": "execute_result"
    }
   ],
   "source": [
    "# Top 10 authors for fun\n",
    "top10 = df_prog[df_prog['author.isBot']==False]['author.name'].value_counts().head(10)\n",
    "top10"
   ]
  },
  {
   "cell_type": "code",
   "execution_count": 8,
   "metadata": {},
   "outputs": [
    {
     "name": "stderr",
     "output_type": "stream",
     "text": [
      "C:\\Users\\Shiva\\miniconda3\\envs\\shivan_environment\\lib\\site-packages\\seaborn\\_decorators.py:43: FutureWarning: Pass the following variables as keyword args: x, y. From version 0.12, the only valid positional argument will be `data`, and passing other arguments without an explicit keyword will result in an error or misinterpretation.\n",
      "  FutureWarning\n"
     ]
    },
    {
     "data": {
      "image/png": "[encoded data removed]",
      "text/plain": [
       "<Figure size 720x360 with 1 Axes>"
      ]
     },
     "metadata": {},
     "output_type": "display_data"
    }
   ],
   "source": [
    "# and graphed... for fun\n",
    "\n",
    "sns.set_style(style='darkgrid')\n",
    "sns.set_context('notebook', font_scale=1.25, rc={'lines.linewidth': 2.5})\n",
    "\n",
    "plt.figure(figsize=(10,5))\n",
    "\n",
    "ax = sns.barplot(top10.index, top10.values)\n",
    "\n",
    "labels = ax.set(title='Top 10 Authors',xlabel='Authors', ylabel='Number Of Comments')\n",
    "ticks = ax.set_xticklabels(ax.get_xticklabels(),rotation=90) # if not assigned to a variable, then prints lots of text"
   ]
  },
  {
   "cell_type": "markdown",
   "metadata": {},
   "source": [
    "Here we do not want any content from the bot. This gives us random content to look peruse."
   ]
  },
  {
   "cell_type": "code",
   "execution_count": 9,
   "metadata": {},
   "outputs": [
    {
     "data": {
      "text/plain": [
       "[\"(yesterday) travel day, so very light, but still got some things in! day 11 of #66daysofdata:\\n- problem of the day on @leetcode\\n- continued @datacamp's 'data manipulation with pandas'\",\n",
       " 'day 2: i finished the last 2 chapters of the course introduction to spark sql in python from datacamp.  it was a little bit difficult the part of sql window functions but... mission completed😉',\n",
       " '@ashley.bee what resources have you been using to learn tableau?',\n",
       " 'electronics',\n",
       " 'day4/66: completed python for data analysis with pandas',\n",
       " 'day 14: few hours on java + reading articles, blogs, job offers,, even i found a cheap micro program in data science subsided by my local government, i might do it , it a plus for my cv even though we can find all the content on the net.',\n",
       " 'day 17: working (part 8 - deploy to production aws) with real estate price prediction project through codebasics yt channel',\n",
       " \"yes @xcalibur !! i won't contend with just the score i have on titanic right now ... i'll be back !! 😉\",\n",
       " 'day 9 of #66daysofdata \\n- worked om linear regression assumptions in detail\\n- bent my mind through seasonal indices and exponential smoothing',\n",
       " 'day9: made progress into the pandas microcourse',\n",
       " 'day 4 of #66daysofdata\\ncontinue on kaggle micro-course, introduction to machine learning\\nunderfitting-and-overfitting:\\n1. overfitting, model matches training data almost perfectly, poor in validation of new data, divide data into very distinct groups\\n2. underfitting, divide data in too common group, prediction not accurate\\n3. use max_leaf_nodes to set a limit of leaf\\n4. use mean_absolute_error to test with multiple max_leaf_nodes to find the perfect fit',\n",
       " 'day 5 / 66:\\n\\nplayed with pandas using independent dataset.  tried to apply the functions learnt in datacamp course.\\n\\nday 6/ 66\\n\\ndoing another course on pandas data manipulation on datacamp. as you go deeper into pandas you understand that there are many things you in one line instead of many lines. lot to learn. anyways one day at a time.',\n",
       " 'day 3: exploring time series',\n",
       " '> you can try google colab if you have a stable (about 1 megabyte/per second) connection\\n@xcalibur yes i should start using google colab .',\n",
       " 'day 07. reading practical statistics for data scientists. concepts 21-22\\n- resampling\\n- statistical significance and p-values\\nlistening to deafheaven - ordinary corrupt human love\\nhttps://open.spotify.com/album/2ia7rzpqsofapkfh4ekp7f?si=rwfet6net-uhtgvd8osf8g',\n",
       " 'day 10 : learnt about data merging. left join, right join, inner and outer join.',\n",
       " \"day 16:\\ncontinuing datacamp's data scienctist with python career track.\",\n",
       " 'day 10: finished kaggle micro course \"intro to machine learning\" 🙂 .',\n",
       " '@gayathrin there is no agenda. it is just an initiative by @kjee1 to inculcate the habit of learning ds',\n",
       " \"day 1: didn't update yesterday. went through sqlite3 and querying sqlite from python. moving on to postgresql today \\U0001f9be .\",\n",
       " 'day 1 of #66daysofdata .\\ncompleted lectures on machine learning from educative.',\n",
       " 'day9: 2 pomodoros on \"python for data analysis\" plus did some writing about my first data project.',\n",
       " 'hi all, have a test coming up on a data science course that i signed up for so....day 1: attended a revision class on big data. day 2: overview of hive & scoop. once i am done with my exam, will restart my data science revision from scratch.',\n",
       " 'day 1: today i started working on the titanic dataset from kaggle. basically the hello world of data science!',\n",
       " 'day 17/66:\\n\\ntried object detection api on cloud',\n",
       " '@sancheat what course did you try out in coursera?',\n",
       " 'i wonder what data scientists in companies use for their projects',\n",
       " 'day 6: i revised machine learning concepts\\nday 7: i worked on mnist dataset',\n",
       " 'day 17/66: did linear regression with sklearn for the first time. to be honest it was weird. \\n\\nlm.fit(x_test, y_test) that’s it !!!\\n\\ndon’t have to think about hypothesis, cost function, derivative!!! \\nmaybe there is more to it... i just started.... now most eager to learn about it more.',\n",
       " 'if you need additional help., put it in the general chat so others can see it too']"
      ]
     },
     "execution_count": 9,
     "metadata": {},
     "output_type": "execute_result"
    }
   ],
   "source": [
    "content = [_.lower() for _ in df_prog[df_prog['author.isBot']==False]['content']]\n",
    "\n",
    "import random\n",
    "\n",
    "random.choices(content, k=30)"
   ]
  },
  {
   "cell_type": "markdown",
   "metadata": {},
   "source": [
    "## Lemmaizing, removing stops words and analysing"
   ]
  },
  {
   "cell_type": "code",
   "execution_count": 10,
   "metadata": {},
   "outputs": [
    {
     "name": "stdout",
     "output_type": "stream",
     "text": [
      "day 8 \n",
      " read article algorithm machine learning\n",
      "day 5 : \n",
      " perform datum cleaning outlier removal feature generation \n",
      " continue model building turn analysis result expect lesson learn importance project planning jump code\n",
      "day 8/#66daysofdata \n",
      " today start learn intermediate pandas \n",
      " @datacamp course \n",
      " solve interesting python problem hackerrank improve problem solve skill \n",
      " practice pandas data manipulation skill work interesting chipotle sale dataset\n",
      "hi guy relatively beginner comment suggestion appreciate :) \n",
      " day 1   continue 5 r z udemy course refresh useful command operation data frame\n",
      "day 12 lot time today 5 minute quickly revise pipeline\n",
      "glad set goal @gjysme2\n",
      "good luck today 🙂 let\n",
      "day 12 kata c programming unix os class pipeline decision tree\n",
      "miss day yesterday today d6 # 66daysofdata \n",
      "\n",
      " complete datum visualization course kaggle\n",
      "day 15 read practical statistic datum scientist\n"
     ]
    }
   ],
   "source": [
    "# some examples to pick\n",
    "text1 = 'day 14: went through the first 3 lessons of the deep learning kaggle micro course'\n",
    "text2 = \"day 14: completed kaggle's pandas micro-course\"\n",
    "text3 = '''day 1:  complete the \"analyzing police activity with pandas\" course on datacamp.'''\n",
    "\n",
    "#displacy.render(doc, jupyter=True)\n",
    "\n",
    "for i in random.sample(list(range(len(content))), k=10):\n",
    "    doc = nlp(content[i])\n",
    "    noun_list = [token.lemma_ for token in doc if\n",
    "                not token.is_stop and\n",
    "                token.pos_ != 'PUNCT']\n",
    "    output = ' '.join(noun_list)\n",
    "    print(output)"
   ]
  },
  {
   "cell_type": "code",
   "execution_count": 11,
   "metadata": {},
   "outputs": [
    {
     "data": {
      "text/plain": [
       "1227"
      ]
     },
     "execution_count": 11,
     "metadata": {},
     "output_type": "execute_result"
    }
   ],
   "source": [
    "# day matcher\n",
    "\n",
    "from spacy.matcher import Matcher\n",
    "\n",
    "pattern_day = [{'LOWER': 'day'},\n",
    "              {'LIKE_NUM': True}]\n",
    "\n",
    "matcher = Matcher(nlp.vocab, validate=True)\n",
    "matcher.add(\"DayMatcher\", None, pattern_day)\n",
    "\n",
    "days = []\n",
    "# for i in range(len(content)):\n",
    "#     doc = nlp(content[i])\n",
    "#     days.extend([doc[match[1]:match[2]] for match in matcher(doc)])\n",
    "# len(days)"
   ]
  },
  {
   "cell_type": "code",
   "execution_count": 16,
   "metadata": {},
   "outputs": [
    {
     "data": {
      "text/plain": [
       "1     1\n",
       "3     1\n",
       "11    1\n",
       "0     1\n",
       "1     1\n",
       "     ..\n",
       "7     1\n",
       "01    1\n",
       "7     1\n",
       "3     1\n",
       "1     1\n",
       "Name: days, Length: 1227, dtype: int64"
      ]
     },
     "execution_count": 16,
     "metadata": {},
     "output_type": "execute_result"
    }
   ],
   "source": [
    "df_days = pd.DataFrame(days, columns=['test','days'])\n",
    "df_days['days'].value_counts() # not working, all digits are unique"
   ]
  },
  {
   "cell_type": "code",
   "execution_count": 22,
   "metadata": {},
   "outputs": [
    {
     "data": {
      "text/html": [
       "<div>\n",
       "<style scoped>\n",
       "    .dataframe tbody tr th:only-of-type {\n",
       "        vertical-align: middle;\n",
       "    }\n",
       "\n",
       "    .dataframe tbody tr th {\n",
       "        vertical-align: top;\n",
       "    }\n",
       "\n",
       "    .dataframe thead th {\n",
       "        text-align: right;\n",
       "    }\n",
       "</style>\n",
       "<table border=\"1\" class=\"dataframe\">\n",
       "  <thead>\n",
       "    <tr style=\"text-align: right;\">\n",
       "      <th></th>\n",
       "      <th>0</th>\n",
       "    </tr>\n",
       "  </thead>\n",
       "  <tbody>\n",
       "    <tr>\n",
       "      <th>0</th>\n",
       "      <td>day1</td>\n",
       "    </tr>\n",
       "    <tr>\n",
       "      <th>1</th>\n",
       "      <td>create</td>\n",
       "    </tr>\n",
       "    <tr>\n",
       "      <th>2</th>\n",
       "      <td>github</td>\n",
       "    </tr>\n",
       "    <tr>\n",
       "      <th>3</th>\n",
       "      <td>repo</td>\n",
       "    </tr>\n",
       "    <tr>\n",
       "      <th>4</th>\n",
       "      <td>create</td>\n",
       "    </tr>\n",
       "  </tbody>\n",
       "</table>\n",
       "</div>"
      ],
      "text/plain": [
       "        0\n",
       "0    day1\n",
       "1  create\n",
       "2  github\n",
       "3    repo\n",
       "4  create"
      ]
     },
     "execution_count": 22,
     "metadata": {},
     "output_type": "execute_result"
    }
   ],
   "source": [
    "words = ' '.join(content)\n",
    "doc = nlp(words)\n",
    "\n",
    "simplewords = [token.lemma_ for token in doc\n",
    "                            if not token.is_stop and \n",
    "                            not token.is_punct]"
   ]
  },
  {
   "cell_type": "code",
   "execution_count": 51,
   "metadata": {},
   "outputs": [
    {
     "data": {
      "text/plain": [
       "word        \n",
       "day             1436\n",
       "\\n              1092\n",
       "course           533\n",
       "datum            415\n",
       "learn            402\n",
       "python           391\n",
       "kaggle           321\n",
       "start            311\n",
       "data             310\n",
       "1                302\n",
       "\\n\\n             273\n",
       "2                260\n",
       "complete         253\n",
       "project          223\n",
       "work             200\n",
       "66daysofdata     196\n",
       "3                194\n",
       "today            192\n",
       "learning         184\n",
       "                 183\n",
       "pandas           176\n",
       "machine          176\n",
       "finish           164\n",
       "read             158\n",
       "science          151\n",
       ">                146\n",
       "4                135\n",
       "basic            133\n",
       "go               121\n",
       "chapter          119\n",
       "dtype: int64"
      ]
     },
     "execution_count": 51,
     "metadata": {},
     "output_type": "execute_result"
    }
   ],
   "source": [
    "df_sw = pd.DataFrame(simplewords, columns=['word'])\n",
    "df_sw.value_counts().head(30)\n",
    "\n",
    "# r_mentions = df_sw[df_sw['word']=='r'].value_counts()\n",
    "# py_mentions = df_sw[df_sw['word']=='python'].value_counts()\n",
    "# print(str(r_mentions))\n",
    "# print(str(py_mentions))\n"
   ]
  },
  {
   "cell_type": "markdown",
   "metadata": {},
   "source": [
    "## Exploratory Data Analysis - #introductions channel\n",
    "\n",
    "Find locations and what people do, maybe age as well. Build demographics of the audience"
   ]
  },
  {
   "cell_type": "code",
   "execution_count": 13,
   "metadata": {},
   "outputs": [
    {
     "data": {
      "text/plain": [
       "(606, 15)"
      ]
     },
     "execution_count": 13,
     "metadata": {},
     "output_type": "execute_result"
    }
   ],
   "source": [
    "df_intro.shape"
   ]
  },
  {
   "cell_type": "code",
   "execution_count": 14,
   "metadata": {},
   "outputs": [
    {
     "data": {
      "text/plain": [
       "[\"> Well I have not done much yet. Till now I have completed a Machine Learning course from Coursera and currently I am doing another specialization on deep learning by Andrew Ng. I have not done any real world projects, just some practice course project so I will be greatful if you could suggest me some nice project for beginners.\\n@Harsh thats still great progress! I think give @kjee1's videos on sample projects a watch. He goes through end to end design. Once you have skills to do that, create a github and pick a topic that interests you. Then follow the process of extraction, cleaning, etc and document  it on github. Share with others to get their input and ideas on how you can improve and for some constructive criticism 💪\",\n",
       " 'Hi everyone, I’m Mahmoud, an Industrial Engineering student from the US. I want to develop my skills to land a data analyst job when I graduate and eventually move into data science',\n",
       " 'Hi guys. Learning data science and machine learning for few months. Just completed my MSc in informatics. Have been in tech ind. for 21 years and switching career path nowadays. From project management to more technical role, systems engineering and hopefully machine learning.',\n",
       " 'Hey guys I am a UG CS student in his 2nd year I hope to make a great project to improve my python and for a strong resume',\n",
       " \"Hello to people of data,\\nI'm Zubair and I am currently enrolled in Master of Data Science degree. I did my bachelor's in genetics and genomics and I aspire to become a data scientist/bioinformatician as I plan to graduate next year.  I'm working on multiple projects ranging from text analysis to proteomics and anomaly detection. I am beginner level programmer who struggle a bit with mathematics. I am fluent in basic statistics and machine learning algorithms. #66daysofdata seems like a great initriative to fill in voids in my learning so far. Glad to me here! 🤘  @kjee1\",\n",
       " \"@VRC Glad to have you in the space! You're very welcome here. Let us know if you'd like some resources to get started, we'll send them your way.\",\n",
       " \"Hello everyone, very nice to see this community, i'm from Colombia, wanting to be part of this, with good attitude and desire with learn with all of you, send my best, kind regards and happy learning!\",\n",
       " 'Hello, Everyone, I am Ashwin, a second-year masters student with a major in Machine Learning and Network Science.\\nLooking forward to putting consistent efforts into improving my skills.',\n",
       " \"So congrats to everyone! joining is a very good step ... which you'll follow with another one and another one and another one 😉 And while I am no guru in habits formations, I am having a lot of success there, so feel free to ping me with a message if you need help in that department. Helping others with that is something I truly learned to enjoy 😄\",\n",
       " \"Hi everyone, so glad to meet a community of like-minded people.  My name is Moe, and I'm a 3rd year statistics student. I stumbled upon data science in my 2nd year of undergrad, when I started to take some CS classes. From there, I have sought to make Data Science a potential career path of mine as it is the intersection of statistics and programming. Can't wait to embark on this journey.\"]"
      ]
     },
     "execution_count": 14,
     "metadata": {},
     "output_type": "execute_result"
    }
   ],
   "source": [
    "content_intro = [_ for _ in df_intro[df_intro['author.isBot']==False]['content']]\n",
    "\n",
    "import random\n",
    "\n",
    "random.choices(content_intro, k=10)"
   ]
  },
  {
   "cell_type": "code",
   "execution_count": 15,
   "metadata": {},
   "outputs": [
    {
     "ename": "SyntaxError",
     "evalue": "invalid syntax (<ipython-input-15-38e9e33c87a8>, line 1)",
     "output_type": "error",
     "traceback": [
      "\u001b[1;36m  File \u001b[1;32m\"<ipython-input-15-38e9e33c87a8>\"\u001b[1;36m, line \u001b[1;32m1\u001b[0m\n\u001b[1;33m    df.\u001b[0m\n\u001b[1;37m       ^\u001b[0m\n\u001b[1;31mSyntaxError\u001b[0m\u001b[1;31m:\u001b[0m invalid syntax\n"
     ]
    }
   ],
   "source": [
    "df."
   ]
  }
 ],
 "metadata": {
  "kernelspec": {
   "display_name": "Python 3",
   "language": "python",
   "name": "python3"
  },
  "language_info": {
   "codemirror_mode": {
    "name": "ipython",
    "version": 3
   },
   "file_extension": ".py",
   "mimetype": "text/x-python",
   "name": "python",
   "nbconvert_exporter": "python",
   "pygments_lexer": "ipython3",
   "version": "3.7.8"
  }
 },
 "nbformat": 4,
 "nbformat_minor": 4
}
