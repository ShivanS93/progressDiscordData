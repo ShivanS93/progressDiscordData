{
 "cells": [
  {
   "cell_type": "markdown",
   "metadata": {},
   "source": [
    "# Discord Chat Text Analysis\n",
    "\n",
    "Analysing the Discord Chat, \"66DaysOfData\". Channels:#progress and #general\n",
    "\n",
    "## Importing libraries\n"
   ]
  },
  {
   "cell_type": "code",
   "execution_count": 1,
   "metadata": {},
   "outputs": [],
   "source": [
    "import pandas as pd\n",
    "import matplotlib.pyplot as plt\n",
    "import seaborn as sns\n",
    "import numpy as np\n",
    "import spacy\n",
    "\n",
    "from spacy.matcher import PhraseMatcher\n",
    "from spacy import displacy\n",
    "\n",
    "spacy.prefer_gpu()\n",
    "nlp = spacy.load(\"en_core_web_sm\", disable=['ner'])\n",
    "\n",
    "import json\n",
    "import os\n",
    "\n",
    "%matplotlib inline"
   ]
  },
  {
   "cell_type": "code",
   "execution_count": 2,
   "metadata": {},
   "outputs": [
    {
     "data": {
      "text/plain": [
       "['.git',\n",
       " '.gitignore',\n",
       " '.ipynb_checkpoints',\n",
       " '66DaysofData - important - general [749395801482199107].json',\n",
       " '66DaysofData - important - introductions [749414833275011074].json',\n",
       " '66DaysofData - important - progress [749516705734197258].json',\n",
       " 'progressDiscordChatAnalysis.ipynb',\n",
       " 'README.md']"
      ]
     },
     "execution_count": 2,
     "metadata": {},
     "output_type": "execute_result"
    }
   ],
   "source": [
    "os.listdir()"
   ]
  },
  {
   "cell_type": "markdown",
   "metadata": {},
   "source": [
    "## Loading Data\n",
    "\n",
    "Loading data into dataframes using `.json_normalize()`. I find the `.json` files have more infomation that the `.csv` files."
   ]
  },
  {
   "cell_type": "code",
   "execution_count": 3,
   "metadata": {},
   "outputs": [],
   "source": [
    "filename_gen = '66DaysofData - important - general [749395801482199107].json'   # 21-09-2020 NZT #general channel chat\n",
    "filename_prog = '66DaysofData - important - progress [749516705734197258].json' # 21-09-2020 NZT #progress channel chat\n",
    "filename_intro = '66DaysofData - important - introductions [749414833275011074].json' # 21-09-2020 NZT #introductions channel chat\n",
    "\n",
    "def load_json_to_df(filename):\n",
    "    with open(filename, 'r') as f:\n",
    "        data = json.load(f)\n",
    "    return pd.json_normalize(data, record_path='messages')\n",
    "\n",
    "df_gen = load_json_to_df(filename_gen)\n",
    "df_prog = load_json_to_df(filename_prog)\n",
    "df_intro = load_json_to_df(filename_intro)"
   ]
  },
  {
   "cell_type": "markdown",
   "metadata": {},
   "source": [
    "## Exploratory Data Analysis - #progress channel"
   ]
  },
  {
   "cell_type": "code",
   "execution_count": 4,
   "metadata": {},
   "outputs": [
    {
     "data": {
      "text/plain": [
       "(1741, 15)"
      ]
     },
     "execution_count": 4,
     "metadata": {},
     "output_type": "execute_result"
    }
   ],
   "source": [
    "df_prog.shape"
   ]
  },
  {
   "cell_type": "code",
   "execution_count": 5,
   "metadata": {},
   "outputs": [
    {
     "data": {
      "text/html": [
       "<div>\n",
       "<style scoped>\n",
       "    .dataframe tbody tr th:only-of-type {\n",
       "        vertical-align: middle;\n",
       "    }\n",
       "\n",
       "    .dataframe tbody tr th {\n",
       "        vertical-align: top;\n",
       "    }\n",
       "\n",
       "    .dataframe thead th {\n",
       "        text-align: right;\n",
       "    }\n",
       "</style>\n",
       "<table border=\"1\" class=\"dataframe\">\n",
       "  <thead>\n",
       "    <tr style=\"text-align: right;\">\n",
       "      <th></th>\n",
       "      <th>id</th>\n",
       "      <th>type</th>\n",
       "      <th>timestamp</th>\n",
       "      <th>timestampEdited</th>\n",
       "      <th>callEndedTimestamp</th>\n",
       "      <th>isPinned</th>\n",
       "      <th>content</th>\n",
       "      <th>attachments</th>\n",
       "      <th>embeds</th>\n",
       "      <th>reactions</th>\n",
       "      <th>author.id</th>\n",
       "      <th>author.name</th>\n",
       "      <th>author.discriminator</th>\n",
       "      <th>author.isBot</th>\n",
       "      <th>author.avatarUrl</th>\n",
       "    </tr>\n",
       "  </thead>\n",
       "  <tbody>\n",
       "    <tr>\n",
       "      <th>0</th>\n",
       "      <td>749937010868748351</td>\n",
       "      <td>Default</td>\n",
       "      <td>2020-08-31T10:21:56.547+00:00</td>\n",
       "      <td>None</td>\n",
       "      <td>None</td>\n",
       "      <td>False</td>\n",
       "      <td>Day1: Created a GitHub repo. Created an R and ...</td>\n",
       "      <td>[]</td>\n",
       "      <td>[]</td>\n",
       "      <td>[{'emoji': {'id': None, 'name': '💯', 'isAnimat...</td>\n",
       "      <td>715593892438736898</td>\n",
       "      <td>William Guesdon</td>\n",
       "      <td>3961</td>\n",
       "      <td>False</td>\n",
       "      <td>https://cdn.discordapp.com/embed/avatars/1.png</td>\n",
       "    </tr>\n",
       "    <tr>\n",
       "      <th>1</th>\n",
       "      <td>750045262277378089</td>\n",
       "      <td>Default</td>\n",
       "      <td>2020-08-31T17:32:05.694+00:00</td>\n",
       "      <td>None</td>\n",
       "      <td>None</td>\n",
       "      <td>False</td>\n",
       "      <td>&gt; Day1: Created a GitHub repo. Created an R an...</td>\n",
       "      <td>[]</td>\n",
       "      <td>[]</td>\n",
       "      <td>[{'emoji': {'id': None, 'name': '👍', 'isAnimat...</td>\n",
       "      <td>743513993250996376</td>\n",
       "      <td>Andrew from DataLeap</td>\n",
       "      <td>8501</td>\n",
       "      <td>False</td>\n",
       "      <td>https://cdn.discordapp.com/avatars/74351399325...</td>\n",
       "    </tr>\n",
       "    <tr>\n",
       "      <th>2</th>\n",
       "      <td>750067004639281224</td>\n",
       "      <td>Default</td>\n",
       "      <td>2020-08-31T18:58:29.477+00:00</td>\n",
       "      <td>None</td>\n",
       "      <td>None</td>\n",
       "      <td>False</td>\n",
       "      <td>Thank you @Andrew from DataLeap It can definit...</td>\n",
       "      <td>[]</td>\n",
       "      <td>[]</td>\n",
       "      <td>[]</td>\n",
       "      <td>715593892438736898</td>\n",
       "      <td>William Guesdon</td>\n",
       "      <td>3961</td>\n",
       "      <td>False</td>\n",
       "      <td>https://cdn.discordapp.com/embed/avatars/1.png</td>\n",
       "    </tr>\n",
       "    <tr>\n",
       "      <th>3</th>\n",
       "      <td>750068015126544485</td>\n",
       "      <td>Default</td>\n",
       "      <td>2020-08-31T19:02:30.396+00:00</td>\n",
       "      <td>None</td>\n",
       "      <td>None</td>\n",
       "      <td>False</td>\n",
       "      <td>Guys i am a beginner , would appreciate if you...</td>\n",
       "      <td>[]</td>\n",
       "      <td>[]</td>\n",
       "      <td>[]</td>\n",
       "      <td>750065427107020843</td>\n",
       "      <td>vc</td>\n",
       "      <td>3696</td>\n",
       "      <td>False</td>\n",
       "      <td>https://cdn.discordapp.com/embed/avatars/1.png</td>\n",
       "    </tr>\n",
       "    <tr>\n",
       "      <th>4</th>\n",
       "      <td>750070203576221857</td>\n",
       "      <td>Default</td>\n",
       "      <td>2020-08-31T19:11:12.163+00:00</td>\n",
       "      <td>None</td>\n",
       "      <td>None</td>\n",
       "      <td>False</td>\n",
       "      <td>Hi Guys, Started with basic Stat</td>\n",
       "      <td>[]</td>\n",
       "      <td>[]</td>\n",
       "      <td>[]</td>\n",
       "      <td>750069445883461713</td>\n",
       "      <td>Arth</td>\n",
       "      <td>1001</td>\n",
       "      <td>False</td>\n",
       "      <td>https://cdn.discordapp.com/embed/avatars/1.png</td>\n",
       "    </tr>\n",
       "  </tbody>\n",
       "</table>\n",
       "</div>"
      ],
      "text/plain": [
       "                   id     type                      timestamp timestampEdited  \\\n",
       "0  749937010868748351  Default  2020-08-31T10:21:56.547+00:00            None   \n",
       "1  750045262277378089  Default  2020-08-31T17:32:05.694+00:00            None   \n",
       "2  750067004639281224  Default  2020-08-31T18:58:29.477+00:00            None   \n",
       "3  750068015126544485  Default  2020-08-31T19:02:30.396+00:00            None   \n",
       "4  750070203576221857  Default  2020-08-31T19:11:12.163+00:00            None   \n",
       "\n",
       "  callEndedTimestamp  isPinned  \\\n",
       "0               None     False   \n",
       "1               None     False   \n",
       "2               None     False   \n",
       "3               None     False   \n",
       "4               None     False   \n",
       "\n",
       "                                             content attachments embeds  \\\n",
       "0  Day1: Created a GitHub repo. Created an R and ...          []     []   \n",
       "1  > Day1: Created a GitHub repo. Created an R an...          []     []   \n",
       "2  Thank you @Andrew from DataLeap It can definit...          []     []   \n",
       "3  Guys i am a beginner , would appreciate if you...          []     []   \n",
       "4                   Hi Guys, Started with basic Stat          []     []   \n",
       "\n",
       "                                           reactions           author.id  \\\n",
       "0  [{'emoji': {'id': None, 'name': '💯', 'isAnimat...  715593892438736898   \n",
       "1  [{'emoji': {'id': None, 'name': '👍', 'isAnimat...  743513993250996376   \n",
       "2                                                 []  715593892438736898   \n",
       "3                                                 []  750065427107020843   \n",
       "4                                                 []  750069445883461713   \n",
       "\n",
       "            author.name author.discriminator  author.isBot  \\\n",
       "0       William Guesdon                 3961         False   \n",
       "1  Andrew from DataLeap                 8501         False   \n",
       "2       William Guesdon                 3961         False   \n",
       "3                    vc                 3696         False   \n",
       "4                  Arth                 1001         False   \n",
       "\n",
       "                                    author.avatarUrl  \n",
       "0     https://cdn.discordapp.com/embed/avatars/1.png  \n",
       "1  https://cdn.discordapp.com/avatars/74351399325...  \n",
       "2     https://cdn.discordapp.com/embed/avatars/1.png  \n",
       "3     https://cdn.discordapp.com/embed/avatars/1.png  \n",
       "4     https://cdn.discordapp.com/embed/avatars/1.png  "
      ]
     },
     "execution_count": 5,
     "metadata": {},
     "output_type": "execute_result"
    }
   ],
   "source": [
    "df_prog.head()"
   ]
  },
  {
   "cell_type": "code",
   "execution_count": 6,
   "metadata": {},
   "outputs": [
    {
     "data": {
      "text/plain": [
       "id                      object\n",
       "type                    object\n",
       "timestamp               object\n",
       "timestampEdited         object\n",
       "callEndedTimestamp      object\n",
       "isPinned                  bool\n",
       "content                 object\n",
       "attachments             object\n",
       "embeds                  object\n",
       "reactions               object\n",
       "author.id               object\n",
       "author.name             object\n",
       "author.discriminator    object\n",
       "author.isBot              bool\n",
       "author.avatarUrl        object\n",
       "dtype: object"
      ]
     },
     "execution_count": 6,
     "metadata": {},
     "output_type": "execute_result"
    }
   ],
   "source": [
    "df_prog.dtypes"
   ]
  },
  {
   "cell_type": "code",
   "execution_count": 7,
   "metadata": {},
   "outputs": [
    {
     "data": {
      "text/plain": [
       "dsgeek101           47\n",
       "Ashley.bee          32\n",
       "15Daniel            25\n",
       "Wilson              25\n",
       "Aaron Petry         25\n",
       "Niven               25\n",
       "RLChibi             24\n",
       "nedal               23\n",
       "_dominiquejames_    22\n",
       "Saurabh_Joshi       21\n",
       "Name: author.name, dtype: int64"
      ]
     },
     "execution_count": 7,
     "metadata": {},
     "output_type": "execute_result"
    }
   ],
   "source": [
    "# Top 10 authors for fun\n",
    "top10 = df_prog[df_prog['author.isBot']==False]['author.name'].value_counts().head(10)\n",
    "top10"
   ]
  },
  {
   "cell_type": "code",
   "execution_count": 8,
   "metadata": {},
   "outputs": [
    {
     "data": {
      "image/png": "[encoded data removed]",
      "text/plain": [
       "<Figure size 720x360 with 1 Axes>"
      ]
     },
     "metadata": {},
     "output_type": "display_data"
    }
   ],
   "source": [
    "# and graphed... for fun\n",
    "\n",
    "sns.set_style(style='darkgrid')\n",
    "sns.set_context('notebook', font_scale=1.25, rc={'lines.linewidth': 2.5})\n",
    "\n",
    "plt.figure(figsize=(10,5))\n",
    "\n",
    "ax = sns.barplot(top10.index, top10.values)\n",
    "\n",
    "labels = ax.set(title='Top 10 Authors',xlabel='Authors', ylabel='Number Of Comments')\n",
    "ticks = ax.set_xticklabels(ax.get_xticklabels(),rotation=90) # if not assigned to a variable, then prints lots of text"
   ]
  },
  {
   "cell_type": "markdown",
   "metadata": {},
   "source": [
    "Here we do not want any content from the bot. This gives us random content to look peruse."
   ]
  },
  {
   "cell_type": "code",
   "execution_count": 9,
   "metadata": {},
   "outputs": [
    {
     "data": {
      "text/plain": [
       "['day 5: dug into the conceptual understanding of glms. made a few quick models in statsmodels library of poisson distributed datasets. found resource of general interview statistics questions started work on the questions and created a private repo.',\n",
       " 'both courses are from datacamp, trying to take advantage that this week is free 😋',\n",
       " 'day 12: went through telco customer churn on @kaggle.',\n",
       " 'day 1 #66daysofds - just getting started',\n",
       " 'd4 #66daysofdata watched a nlp video and discussed an nlp project with my group( created in this community!). finished another chapter of data visualization with tableau course.',\n",
       " 'day #16 of #66daysofdata. finished pandas micro-course on kaggle.',\n",
       " 'day 5 - reading chapter2 of hands-on ml and set up a colab to follow the coding exercise along.',\n",
       " 'day 5 - reading chapter2 of hands-on ml and set up a colab to follow the coding exercise along.',\n",
       " 'day 5: @66daysofdata\\nreading of this  article kind of copying the day 4 of ken jee\\nhttps://towardsdatascience.com/exploratory-data-analysis-eda-techniques-for-kaggle-competition-beginners-be4237c3c3a9',\n",
       " \"#66daysofdata day 9. missed posting yesterday, still working on preprocessing data for project. today learned to find and deal with outliers through tukey's and winsorize methods\",\n",
       " 'day2. review aggregate and analytic functions of sql with micro courses from kaggle',\n",
       " 'day 14/66\\n    python – solving problems, classes, files and functions\\n    r – introduction, data types, coercion rules, functions and args',\n",
       " 'day 2: picked up a course on data visualization using tableau. spent about an hour going over videos and practicing in tableau.',\n",
       " '@ashley.bee',\n",
       " 'date: 06.09\\nday 5/66\\ndata science project from scratch - part 2 (data collection)\\ndata science project from scratch - part 3 (data cleaning)\\nestimate (statisticians) / metric (data scientists & business analysists)',\n",
       " 'day 20 writing python code to perform pandas data frame aggregation, dropping, sorting, selection of records imported from bestalbumever csv exports.',\n",
       " 'day 4 of #66daysofdata\\n\\ni will be going through:\\n-python packages installation\\n-first regression in python\\n-using seaborn for graphs\\n-how to interpret the regression table\\n-decomposition of variability\\n-ols and r squared',\n",
       " 'day 8:\\n\\npython - reviewed numpy, strings and loops.\\nsql - began reading my sql book\\nr - next step in learning r and using matrix functions',\n",
       " \"@aaron petry awesome, looks like you're kind of doing the same thing as i am. hackerrank is kind of addicting and i'm feeling ready to be productively uncomfortable tackling the titanic dataset. 😂\",\n",
       " 'day 4: \\n1. learning principles of linear algebra from mit opencourseware, gaining a deeper look into how matrices as a system work\\n2. learning web scraping with beautiful soup and scrapy, scrapped the joblist on boston craiglist website',\n",
       " 'day 1 : started reading hands on machine learning book. finished the intro part about the machine learning algorithms.\\n \\nday 2 : half way through python micro course by kaggle.\\n\\ngoal is to finish the python course and 1st chapter from hands on machine learning book for day 3.',\n",
       " '> i need some advice from you guys. should i focus on kaggle and try some competitions or learn sql properly? which one to do first? for sql, i can do the cloudera big data specialization.\\n@sancheat practice sql from hackerrank and leetcode :smile😁',\n",
       " 'day 2 of #66daysofdata: finished 2 free datacamp courses: efficient r code and intro to regression in r.',\n",
       " 'day 10:  watched a video on neural networks',\n",
       " 'day 9 @66daysofdata\\n running a github repo of the project on deepfake.',\n",
       " 'd1: watched money ball, continue r course on coursera\\nd2: practiced r in datacamp (intro to r)',\n",
       " \"day 6: read through interacting with computer files through python as part of jovian.ml's data analysis with python: zero to pandas course. also finished my first project on data camp. it was their guided project on lego and i obviously hope to complete unguided (and completely self directed) projects in the near future, but this was a good first step for me. :)\\n\\nedit: finished up a second guided project (tv, halftime shows, and the big game) too. why not? 🤓\",\n",
       " 'day 15 of #66daysofdata \\nread the 5th chapter of hands on machine learning\\nit covered support vector machines\\n\\nunderstood the intuition but what is that math?',\n",
       " 'day 3 of 66: back to basics today. going through my notes on regression (ridge, lasso and polynomial)',\n",
       " 'day 9/66, completed day 3 of “teclado’s 30 days of python”\\n\\nday 10/66, nothing too productive, looked at the book mathematics for machine learning by marc deisenroth (url for those interested: https://mml-book.github.io/book/mml-book.pdf)']"
      ]
     },
     "execution_count": 9,
     "metadata": {},
     "output_type": "execute_result"
    }
   ],
   "source": [
    "content = [_.lower() for _ in df_prog[df_prog['author.isBot']==False]['content']]\n",
    "\n",
    "import random\n",
    "\n",
    "random.choices(content, k=30)"
   ]
  },
  {
   "cell_type": "markdown",
   "metadata": {},
   "source": [
    "## Lemmaizing, removing stops words and analysing"
   ]
  },
  {
   "cell_type": "code",
   "execution_count": 106,
   "metadata": {},
   "outputs": [
    {
     "name": "stdout",
     "output_type": "stream",
     "text": [
      "d8 small datum visualization tableau\n",
      "totally forget post progress sorry guy day 1 day 6 start finish course statistic r datacamp\n",
      "day 2 progress finish 3 lesson google introduction tensorflow deep learning start andrew ng deep learning specialization course finish week course exercise fashion mnist dataset classify clothing item image input \n",
      "\n",
      " day 3 goal finish second week course deep learning   specialization assignment exercise project \n",
      "\n",
      " happy learn\n",
      "day 10&11 read book practical statistic data science specialist\n",
      "day 15 work 6 python flask server real estate price prediction project codebasic yt channel\n",
      "day11 linear lagebra basic today udemy course\n",
      "day 7 # 66daysofdata \n",
      " complete chapter 2 @datacamp data manipulation pandas course sub - setting cumulative function \n",
      " watch episode 19 @kenjeed review data science project ' series \n",
      " order physical copy hand machine learning\n",
      "continue ml course datacamp machine learn tree base model\n",
      "day 2 complete matplotlib series youtube teach corey schafer detailed easy follow clear explanation topic practice visualization skill stackoverflow dataset\n",
      "s work well\n"
     ]
    }
   ],
   "source": [
    "# some examples to pick\n",
    "text1 = 'day 14: went through the first 3 lessons of the deep learning kaggle micro course'\n",
    "text2 = \"day 14: completed kaggle's pandas micro-course\"\n",
    "text3 = '''day 1:  complete the \"analyzing police activity with pandas\" course on datacamp.'''\n",
    "\n",
    "#displacy.render(doc, jupyter=True)\n",
    "\n",
    "for i in random.sample(list(range(len(content))), k=10):\n",
    "    doc = nlp(content[i])\n",
    "    noun_list = [token.lemma_ for token in doc if\n",
    "                not token.is_stop and\n",
    "                token.pos_ != 'PUNCT']\n",
    "    output = ' '.join(noun_list)\n",
    "    print(output)"
   ]
  },
  {
   "cell_type": "code",
   "execution_count": 105,
   "metadata": {},
   "outputs": [
    {
     "name": "stdout",
     "output_type": "stream",
     "text": [
      "[]\n",
      "[]\n",
      "[day 12]\n",
      "[day 2]\n",
      "[day 3]\n",
      "[day 15]\n",
      "[day 1/66]\n",
      "[]\n",
      "[day 15]\n",
      "[day 13]\n",
      "[day 7]\n",
      "[]\n",
      "[day 7]\n",
      "[day 08]\n",
      "[]\n",
      "[day 6]\n",
      "[day 1, day 2]\n",
      "[day 7]\n",
      "[]\n",
      "[day 1]\n",
      "[day 04]\n",
      "[day 16]\n",
      "[]\n",
      "[day 7/66]\n",
      "[day 16]\n",
      "[]\n",
      "[day 6]\n",
      "[day 5]\n",
      "[]\n",
      "[day 7]\n",
      "[day 6]\n",
      "[]\n",
      "[]\n",
      "[day 16]\n",
      "[day 5]\n",
      "[day 1]\n",
      "[day 1]\n",
      "[day 1]\n",
      "[day 6]\n",
      "[day 1]\n",
      "[day 6/66]\n",
      "[day 9]\n",
      "[day 1]\n",
      "[]\n",
      "[day 8]\n",
      "[]\n",
      "[day 12]\n",
      "[day 9]\n",
      "[day 10]\n",
      "[day 2]\n",
      "[]\n",
      "[day 4]\n",
      "[day 14]\n",
      "[day 1]\n",
      "[day 2]\n",
      "[day 3]\n",
      "[day 2, day 3]\n",
      "[day 4]\n",
      "[day 2]\n",
      "[day 3]\n",
      "[day 2]\n",
      "[day 8/66]\n",
      "[day 8]\n",
      "[]\n",
      "[day 3]\n",
      "[day 2]\n",
      "[day 1]\n",
      "[day 8]\n",
      "[day 9]\n",
      "[]\n",
      "[day 11]\n",
      "[]\n",
      "[day 7]\n",
      "[day 5]\n",
      "[day 4]\n",
      "[day 3]\n",
      "[day 9]\n",
      "[day 8]\n",
      "[]\n",
      "[]\n",
      "[]\n",
      "[day 17/66]\n",
      "[day 12]\n",
      "[day 17]\n",
      "[]\n",
      "[day 4]\n",
      "[]\n",
      "[day 10/66]\n",
      "[day 18]\n",
      "[day 4]\n",
      "[]\n",
      "[day 4/66]\n",
      "[day 3]\n",
      "[day 8]\n",
      "[day 1]\n",
      "[day 1]\n",
      "[day 2]\n",
      "[day 3]\n",
      "[day 5]\n",
      "[day 11]\n"
     ]
    }
   ],
   "source": [
    "# day matcher\n",
    "\n",
    "from spacy.matcher import Matcher\n",
    "\n",
    "pattern_day = [{'LOWER': 'day'},\n",
    "              {'LIKE_NUM': True}]\n",
    "\n",
    "matcher = Matcher(nlp.vocab, validate=True)\n",
    "matcher.add(\"DayMatcher\", None, pattern_day)\n",
    "\n",
    "for i in random.sample(list(range(len(content))), k=100):\n",
    "    doc = nlp(content[i])\n",
    "    days = [doc[start:end] for _, start, end in matcher(doc)]\n",
    "    print(days)\n"
   ]
  },
  {
   "cell_type": "markdown",
   "metadata": {},
   "source": [
    "## Exploratory Data Analysis - #introductions channel\n",
    "\n",
    "Find locations and what people do, maybe age as well. Build demographics of the audience"
   ]
  },
  {
   "cell_type": "code",
   "execution_count": 77,
   "metadata": {},
   "outputs": [
    {
     "data": {
      "text/plain": [
       "(606, 15)"
      ]
     },
     "execution_count": 77,
     "metadata": {},
     "output_type": "execute_result"
    }
   ],
   "source": [
    "df_intro.shape"
   ]
  },
  {
   "cell_type": "code",
   "execution_count": null,
   "metadata": {},
   "outputs": [],
   "source": [
    "content_intro = [_ for _ in df_intro[df_intro['author.isBot']==False]['content']]\n",
    "\n",
    "import random\n",
    "\n",
    "random.choices(content_intro, k=10)"
   ]
  },
  {
   "cell_type": "code",
   "execution_count": null,
   "metadata": {},
   "outputs": [],
   "source": [
    "df."
   ]
  }
 ],
 "metadata": {
  "kernelspec": {
   "display_name": "Python 3",
   "language": "python",
   "name": "python3"
  },
  "language_info": {
   "codemirror_mode": {
    "name": "ipython",
    "version": 3
   },
   "file_extension": ".py",
   "mimetype": "text/x-python",
   "name": "python",
   "nbconvert_exporter": "python",
   "pygments_lexer": "ipython3",
   "version": "3.7.4"
  }
 },
 "nbformat": 4,
 "nbformat_minor": 4
}
