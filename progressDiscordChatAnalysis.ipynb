{
 "cells": [
  {
   "cell_type": "markdown",
   "metadata": {},
   "source": [
    "# Discord Chat Text Analysis\n",
    "\n",
    "Analysing the Discord Chat #progress, 66DaysOfData"
   ]
  },
  {
   "cell_type": "code",
   "execution_count": 24,
   "metadata": {},
   "outputs": [],
   "source": [
    "import pandas as pd\n",
    "import matplotlib.pyplot as plt\n",
    "import seaborn as sns\n",
    "import numpy as np\n",
    "\n",
    "import json\n",
    "import os\n",
    "\n",
    "%matplotlib inline"
   ]
  },
  {
   "cell_type": "code",
   "execution_count": 3,
   "metadata": {},
   "outputs": [
    {
     "data": {
      "text/plain": [
       "['.ipynb_checkpoints',\n",
       " '66DaysofData - important - progress [749516705734197258].json',\n",
       " 'progressDiscordChatAnalysis.ipynb']"
      ]
     },
     "execution_count": 3,
     "metadata": {},
     "output_type": "execute_result"
    }
   ],
   "source": [
    "os.listdir()"
   ]
  },
  {
   "cell_type": "code",
   "execution_count": 25,
   "metadata": {},
   "outputs": [],
   "source": [
    "filename = '66DaysofData - important - progress [749516705734197258].json' # 20/09/2020 NZT time of download of this file\n",
    "\n",
    "with open(filename, 'r') as f:\n",
    "    data = json.load(f)\n",
    "\n",
    "df = pd.json_normalize(data=data, record_path='messages')"
   ]
  },
  {
   "cell_type": "code",
   "execution_count": 15,
   "metadata": {},
   "outputs": [
    {
     "data": {
      "text/plain": [
       "(1705, 15)"
      ]
     },
     "execution_count": 15,
     "metadata": {},
     "output_type": "execute_result"
    }
   ],
   "source": [
    "df.shape"
   ]
  },
  {
   "cell_type": "code",
   "execution_count": 16,
   "metadata": {},
   "outputs": [
    {
     "data": {
      "text/html": [
       "<div>\n",
       "<style scoped>\n",
       "    .dataframe tbody tr th:only-of-type {\n",
       "        vertical-align: middle;\n",
       "    }\n",
       "\n",
       "    .dataframe tbody tr th {\n",
       "        vertical-align: top;\n",
       "    }\n",
       "\n",
       "    .dataframe thead th {\n",
       "        text-align: right;\n",
       "    }\n",
       "</style>\n",
       "<table border=\"1\" class=\"dataframe\">\n",
       "  <thead>\n",
       "    <tr style=\"text-align: right;\">\n",
       "      <th></th>\n",
       "      <th>id</th>\n",
       "      <th>type</th>\n",
       "      <th>timestamp</th>\n",
       "      <th>timestampEdited</th>\n",
       "      <th>callEndedTimestamp</th>\n",
       "      <th>isPinned</th>\n",
       "      <th>content</th>\n",
       "      <th>attachments</th>\n",
       "      <th>embeds</th>\n",
       "      <th>reactions</th>\n",
       "      <th>author.id</th>\n",
       "      <th>author.name</th>\n",
       "      <th>author.discriminator</th>\n",
       "      <th>author.isBot</th>\n",
       "      <th>author.avatarUrl</th>\n",
       "    </tr>\n",
       "  </thead>\n",
       "  <tbody>\n",
       "    <tr>\n",
       "      <th>0</th>\n",
       "      <td>749937010868748351</td>\n",
       "      <td>Default</td>\n",
       "      <td>2020-08-31T10:21:56.547+00:00</td>\n",
       "      <td>None</td>\n",
       "      <td>None</td>\n",
       "      <td>False</td>\n",
       "      <td>Day1: Created a GitHub repo. Created an R and ...</td>\n",
       "      <td>[]</td>\n",
       "      <td>[]</td>\n",
       "      <td>[{'emoji': {'id': None, 'name': '💯', 'isAnimat...</td>\n",
       "      <td>715593892438736898</td>\n",
       "      <td>William Guesdon</td>\n",
       "      <td>3961</td>\n",
       "      <td>False</td>\n",
       "      <td>https://cdn.discordapp.com/embed/avatars/1.png</td>\n",
       "    </tr>\n",
       "    <tr>\n",
       "      <th>1</th>\n",
       "      <td>750045262277378089</td>\n",
       "      <td>Default</td>\n",
       "      <td>2020-08-31T17:32:05.694+00:00</td>\n",
       "      <td>None</td>\n",
       "      <td>None</td>\n",
       "      <td>False</td>\n",
       "      <td>&gt; Day1: Created a GitHub repo. Created an R an...</td>\n",
       "      <td>[]</td>\n",
       "      <td>[]</td>\n",
       "      <td>[{'emoji': {'id': None, 'name': '👍', 'isAnimat...</td>\n",
       "      <td>743513993250996376</td>\n",
       "      <td>Andrew from DataLeap</td>\n",
       "      <td>8501</td>\n",
       "      <td>False</td>\n",
       "      <td>https://cdn.discordapp.com/avatars/74351399325...</td>\n",
       "    </tr>\n",
       "    <tr>\n",
       "      <th>2</th>\n",
       "      <td>750067004639281224</td>\n",
       "      <td>Default</td>\n",
       "      <td>2020-08-31T18:58:29.477+00:00</td>\n",
       "      <td>None</td>\n",
       "      <td>None</td>\n",
       "      <td>False</td>\n",
       "      <td>Thank you @Andrew from DataLeap It can definit...</td>\n",
       "      <td>[]</td>\n",
       "      <td>[]</td>\n",
       "      <td>[]</td>\n",
       "      <td>715593892438736898</td>\n",
       "      <td>William Guesdon</td>\n",
       "      <td>3961</td>\n",
       "      <td>False</td>\n",
       "      <td>https://cdn.discordapp.com/embed/avatars/1.png</td>\n",
       "    </tr>\n",
       "    <tr>\n",
       "      <th>3</th>\n",
       "      <td>750068015126544485</td>\n",
       "      <td>Default</td>\n",
       "      <td>2020-08-31T19:02:30.396+00:00</td>\n",
       "      <td>None</td>\n",
       "      <td>None</td>\n",
       "      <td>False</td>\n",
       "      <td>Guys i am a beginner , would appreciate if you...</td>\n",
       "      <td>[]</td>\n",
       "      <td>[]</td>\n",
       "      <td>[]</td>\n",
       "      <td>750065427107020843</td>\n",
       "      <td>vc</td>\n",
       "      <td>3696</td>\n",
       "      <td>False</td>\n",
       "      <td>https://cdn.discordapp.com/embed/avatars/1.png</td>\n",
       "    </tr>\n",
       "    <tr>\n",
       "      <th>4</th>\n",
       "      <td>750070203576221857</td>\n",
       "      <td>Default</td>\n",
       "      <td>2020-08-31T19:11:12.163+00:00</td>\n",
       "      <td>None</td>\n",
       "      <td>None</td>\n",
       "      <td>False</td>\n",
       "      <td>Hi Guys, Started with basic Stat</td>\n",
       "      <td>[]</td>\n",
       "      <td>[]</td>\n",
       "      <td>[]</td>\n",
       "      <td>750069445883461713</td>\n",
       "      <td>Arth</td>\n",
       "      <td>1001</td>\n",
       "      <td>False</td>\n",
       "      <td>https://cdn.discordapp.com/embed/avatars/1.png</td>\n",
       "    </tr>\n",
       "  </tbody>\n",
       "</table>\n",
       "</div>"
      ],
      "text/plain": [
       "                   id     type                      timestamp timestampEdited  \\\n",
       "0  749937010868748351  Default  2020-08-31T10:21:56.547+00:00            None   \n",
       "1  750045262277378089  Default  2020-08-31T17:32:05.694+00:00            None   \n",
       "2  750067004639281224  Default  2020-08-31T18:58:29.477+00:00            None   \n",
       "3  750068015126544485  Default  2020-08-31T19:02:30.396+00:00            None   \n",
       "4  750070203576221857  Default  2020-08-31T19:11:12.163+00:00            None   \n",
       "\n",
       "  callEndedTimestamp  isPinned  \\\n",
       "0               None     False   \n",
       "1               None     False   \n",
       "2               None     False   \n",
       "3               None     False   \n",
       "4               None     False   \n",
       "\n",
       "                                             content attachments embeds  \\\n",
       "0  Day1: Created a GitHub repo. Created an R and ...          []     []   \n",
       "1  > Day1: Created a GitHub repo. Created an R an...          []     []   \n",
       "2  Thank you @Andrew from DataLeap It can definit...          []     []   \n",
       "3  Guys i am a beginner , would appreciate if you...          []     []   \n",
       "4                   Hi Guys, Started with basic Stat          []     []   \n",
       "\n",
       "                                           reactions           author.id  \\\n",
       "0  [{'emoji': {'id': None, 'name': '💯', 'isAnimat...  715593892438736898   \n",
       "1  [{'emoji': {'id': None, 'name': '👍', 'isAnimat...  743513993250996376   \n",
       "2                                                 []  715593892438736898   \n",
       "3                                                 []  750065427107020843   \n",
       "4                                                 []  750069445883461713   \n",
       "\n",
       "            author.name author.discriminator  author.isBot  \\\n",
       "0       William Guesdon                 3961         False   \n",
       "1  Andrew from DataLeap                 8501         False   \n",
       "2       William Guesdon                 3961         False   \n",
       "3                    vc                 3696         False   \n",
       "4                  Arth                 1001         False   \n",
       "\n",
       "                                    author.avatarUrl  \n",
       "0     https://cdn.discordapp.com/embed/avatars/1.png  \n",
       "1  https://cdn.discordapp.com/avatars/74351399325...  \n",
       "2     https://cdn.discordapp.com/embed/avatars/1.png  \n",
       "3     https://cdn.discordapp.com/embed/avatars/1.png  \n",
       "4     https://cdn.discordapp.com/embed/avatars/1.png  "
      ]
     },
     "execution_count": 16,
     "metadata": {},
     "output_type": "execute_result"
    }
   ],
   "source": [
    "df.head()"
   ]
  },
  {
   "cell_type": "code",
   "execution_count": 17,
   "metadata": {},
   "outputs": [
    {
     "data": {
      "text/plain": [
       "id                      object\n",
       "type                    object\n",
       "timestamp               object\n",
       "timestampEdited         object\n",
       "callEndedTimestamp      object\n",
       "isPinned                  bool\n",
       "content                 object\n",
       "attachments             object\n",
       "embeds                  object\n",
       "reactions               object\n",
       "author.id               object\n",
       "author.name             object\n",
       "author.discriminator    object\n",
       "author.isBot              bool\n",
       "author.avatarUrl        object\n",
       "dtype: object"
      ]
     },
     "execution_count": 17,
     "metadata": {},
     "output_type": "execute_result"
    }
   ],
   "source": [
    "df.dtypes"
   ]
  },
  {
   "cell_type": "code",
   "execution_count": 28,
   "metadata": {},
   "outputs": [
    {
     "data": {
      "text/plain": [
       "273"
      ]
     },
     "execution_count": 28,
     "metadata": {},
     "output_type": "execute_result"
    }
   ],
   "source": [
    "len(df['author.name'].unique())"
   ]
  },
  {
   "cell_type": "code",
   "execution_count": null,
   "metadata": {},
   "outputs": [],
   "source": []
  }
 ],
 "metadata": {
  "kernelspec": {
   "display_name": "Python 3",
   "language": "python",
   "name": "python3"
  },
  "language_info": {
   "codemirror_mode": {
    "name": "ipython",
    "version": 3
   },
   "file_extension": ".py",
   "mimetype": "text/x-python",
   "name": "python",
   "nbconvert_exporter": "python",
   "pygments_lexer": "ipython3",
   "version": "3.7.4"
  }
 },
 "nbformat": 4,
 "nbformat_minor": 4
}
